{
 "cells": [
  {
   "cell_type": "markdown",
   "id": "8d237468",
   "metadata": {},
   "source": [
    "# Music Genre Classification\n",
    "\n",
    "## Introduction\n",
    "\n",
    "In this project I investigate a suitable model for the classification of music samples by genre. Music Genre Classification is a part of Music Information Retrieval tand it has been developing, particularly since the work of Tzanetakis and Cook (2002). It has grown in importance with the proliferation of music streaming platforms such as Spotify, Pandora, and others, which makes increasing use of data science and machine learning technologies to recommend listening to subscribers to these platforms. \n",
    "\n",
    "#### Dataset:\n",
    "\n",
    "The dataset used for this exploratory study id the GZTAN dataset that was obtained from the kaggle.com website. The features contained in the dataset are audio characteristics which were extracted for each of the of the musical example in the dataset. These features include the mean and variance of: chroma stft, rms, spectal centroid, bandwidth, rolloff, zero crossing rate, harmony, tempo, and mfccs. \n",
    "\n",
    "Mel-frequency cepstral coefficients (mfccs) is a popular timbral feature used in music genre classification that approximates the way frequencies are mapped to the nerves of the inner ear in humans.(Ramirez and Flores, 2019; Logan, 2000). Spectral centroid is linked to the 'brightness' of sound, rolloff is metric for the spectral shape, and the zero crossing rate is related to the noise component of an audio signal. (Ramirez and Flores, 2019; Tzanetakis and Cook, 2002). Pitch and its related musical elements, melody and harmony, is represented by chroma features. (Muller, 2015)\n",
    "\n",
    "There is also  a feature - 'label' - that identifies each example as a specific genre of music ('blues', 'classical', 'country', 'disco', 'hiphop', 'jazz', 'metal', 'pop', 'reggae', 'rock'). This feature serves as the target variable while the aforementioned features constitute the input variables. \n",
    "\n",
    "#### Findings:\n",
    "\n",
    "The scores for the average accuracy of each model in correctly identifying the respective labels/classes in the test set show that: \n",
    "\n",
    " - The MLPClassifier and LinearSVC models performed the best with accuracy score of 70%, while the RandomForestClassifier and KNeighborsClassifier models performed creditably with scores of 67% and 65% respectively. The DecisionTree and GuasianNB classifiers performed poorly.\n",
    "\n",
    " - The following shows the precision, recall, and f1 scores, and the confusion matrix from which they can be derived, for the SVC and MLP classifiers.\n",
    "\n",
    "#### Algorithms used\n",
    "\n",
    "This study will evaluate five algorithms availabel from the scikit-learn library. This is not a binary classification exercise. Since the target variable 'label' is made up of 10 classes/labels, this is a multi-class and/or multilabel classification process. As such I have chosen to examine that support classification of this nature. The algorithms are: Naive_Bayes.GausianNB, DecisionTrees, RandomForestClassifier, KNeighborsClassifier, MPLClassifier, and LinearSVC. \n",
    "\n",
    "#### Author in brief\n",
    "\n",
    "While I have an interests in machine learning and datascience because I would like to examine modeling for environmental and climate change problem, as well as the alleviation of poverty and hunger; I am also deeply interested in music and decided to initiate my path in machine learning with a music classification project. "
   ]
  },
  {
   "cell_type": "markdown",
   "id": "1f657159",
   "metadata": {},
   "source": [
    "## Library Imports"
   ]
  },
  {
   "cell_type": "code",
   "execution_count": 2,
   "id": "d83213e5",
   "metadata": {},
   "outputs": [],
   "source": [
    "import pandas as pd\n",
    "pd.set_option('display.max_columns', 100)\n",
    "\n",
    "import numpy as np\n",
    "\n",
    "import matplotlib.pyplot as plt\n",
    "%matplotlib inline\n",
    "\n",
    "import seaborn as sns\n",
    "sns.set_style('darkgrid')\n",
    "\n",
    "from sklearn.model_selection import train_test_split, GridSearchCV\n",
    "from sklearn.pipeline import make_pipeline\n",
    "from sklearn.tree import DecisionTreeClassifier\n",
    "from sklearn.ensemble import RandomForestClassifier, ExtraTreesClassifier\n",
    "from sklearn.preprocessing import StandardScaler\n",
    "from sklearn.neighbors import KNeighborsClassifier, NeighborhoodComponentsAnalysis\n",
    "from sklearn.svm import LinearSVC\n",
    "from sklearn.neural_network import MLPClassifier\n",
    "from sklearn.naive_bayes import GaussianNB\n",
    "from sklearn.metrics import confusion_matrix, precision_score, f1_score, accuracy_score, ConfusionMatrixDisplay, recall_score\n",
    "from sklearn.metrics import plot_confusion_matrix\n",
    "import warnings\n",
    "warnings.filterwarnings('ignore')"
   ]
  },
  {
   "cell_type": "markdown",
   "id": "90e8886c",
   "metadata": {},
   "source": [
    "## Exploratory Analysis"
   ]
  },
  {
   "cell_type": "code",
   "execution_count": 3,
   "id": "74d18589",
   "metadata": {},
   "outputs": [
    {
     "data": {
      "text/html": [
       "<div>\n",
       "<style scoped>\n",
       "    .dataframe tbody tr th:only-of-type {\n",
       "        vertical-align: middle;\n",
       "    }\n",
       "\n",
       "    .dataframe tbody tr th {\n",
       "        vertical-align: top;\n",
       "    }\n",
       "\n",
       "    .dataframe thead th {\n",
       "        text-align: right;\n",
       "    }\n",
       "</style>\n",
       "<table border=\"1\" class=\"dataframe\">\n",
       "  <thead>\n",
       "    <tr style=\"text-align: right;\">\n",
       "      <th></th>\n",
       "      <th>filename</th>\n",
       "      <th>length</th>\n",
       "      <th>chroma_stft_mean</th>\n",
       "      <th>chroma_stft_var</th>\n",
       "      <th>rms_mean</th>\n",
       "      <th>rms_var</th>\n",
       "      <th>spectral_centroid_mean</th>\n",
       "      <th>spectral_centroid_var</th>\n",
       "      <th>spectral_bandwidth_mean</th>\n",
       "      <th>spectral_bandwidth_var</th>\n",
       "      <th>rolloff_mean</th>\n",
       "      <th>rolloff_var</th>\n",
       "      <th>zero_crossing_rate_mean</th>\n",
       "      <th>zero_crossing_rate_var</th>\n",
       "      <th>harmony_mean</th>\n",
       "      <th>harmony_var</th>\n",
       "      <th>perceptr_mean</th>\n",
       "      <th>perceptr_var</th>\n",
       "      <th>tempo</th>\n",
       "      <th>mfcc1_mean</th>\n",
       "      <th>mfcc1_var</th>\n",
       "      <th>mfcc2_mean</th>\n",
       "      <th>mfcc2_var</th>\n",
       "      <th>mfcc3_mean</th>\n",
       "      <th>mfcc3_var</th>\n",
       "      <th>mfcc4_mean</th>\n",
       "      <th>mfcc4_var</th>\n",
       "      <th>mfcc5_mean</th>\n",
       "      <th>mfcc5_var</th>\n",
       "      <th>mfcc6_mean</th>\n",
       "      <th>mfcc6_var</th>\n",
       "      <th>mfcc7_mean</th>\n",
       "      <th>mfcc7_var</th>\n",
       "      <th>mfcc8_mean</th>\n",
       "      <th>mfcc8_var</th>\n",
       "      <th>mfcc9_mean</th>\n",
       "      <th>mfcc9_var</th>\n",
       "      <th>mfcc10_mean</th>\n",
       "      <th>mfcc10_var</th>\n",
       "      <th>mfcc11_mean</th>\n",
       "      <th>mfcc11_var</th>\n",
       "      <th>mfcc12_mean</th>\n",
       "      <th>mfcc12_var</th>\n",
       "      <th>mfcc13_mean</th>\n",
       "      <th>mfcc13_var</th>\n",
       "      <th>mfcc14_mean</th>\n",
       "      <th>mfcc14_var</th>\n",
       "      <th>mfcc15_mean</th>\n",
       "      <th>mfcc15_var</th>\n",
       "      <th>mfcc16_mean</th>\n",
       "      <th>mfcc16_var</th>\n",
       "      <th>mfcc17_mean</th>\n",
       "      <th>mfcc17_var</th>\n",
       "      <th>mfcc18_mean</th>\n",
       "      <th>mfcc18_var</th>\n",
       "      <th>mfcc19_mean</th>\n",
       "      <th>mfcc19_var</th>\n",
       "      <th>mfcc20_mean</th>\n",
       "      <th>mfcc20_var</th>\n",
       "      <th>label</th>\n",
       "    </tr>\n",
       "  </thead>\n",
       "  <tbody>\n",
       "    <tr>\n",
       "      <th>0</th>\n",
       "      <td>blues.00000.wav</td>\n",
       "      <td>661794</td>\n",
       "      <td>0.350088</td>\n",
       "      <td>0.088757</td>\n",
       "      <td>0.130228</td>\n",
       "      <td>0.002827</td>\n",
       "      <td>1784.165850</td>\n",
       "      <td>129774.064525</td>\n",
       "      <td>2002.449060</td>\n",
       "      <td>85882.761315</td>\n",
       "      <td>3805.839606</td>\n",
       "      <td>9.015054e+05</td>\n",
       "      <td>0.083045</td>\n",
       "      <td>0.000767</td>\n",
       "      <td>-4.529724e-05</td>\n",
       "      <td>0.008172</td>\n",
       "      <td>0.000008</td>\n",
       "      <td>0.005698</td>\n",
       "      <td>123.046875</td>\n",
       "      <td>-113.570648</td>\n",
       "      <td>2564.207520</td>\n",
       "      <td>121.571793</td>\n",
       "      <td>295.913818</td>\n",
       "      <td>-19.168142</td>\n",
       "      <td>235.574432</td>\n",
       "      <td>42.366421</td>\n",
       "      <td>151.106873</td>\n",
       "      <td>-6.364664</td>\n",
       "      <td>167.934799</td>\n",
       "      <td>18.623499</td>\n",
       "      <td>89.180840</td>\n",
       "      <td>-13.704891</td>\n",
       "      <td>67.660492</td>\n",
       "      <td>15.343150</td>\n",
       "      <td>68.932579</td>\n",
       "      <td>-12.274110</td>\n",
       "      <td>82.204201</td>\n",
       "      <td>10.976572</td>\n",
       "      <td>63.386311</td>\n",
       "      <td>-8.326573</td>\n",
       "      <td>61.773094</td>\n",
       "      <td>8.803792</td>\n",
       "      <td>51.244125</td>\n",
       "      <td>-3.672300</td>\n",
       "      <td>41.217415</td>\n",
       "      <td>5.747995</td>\n",
       "      <td>40.554478</td>\n",
       "      <td>-5.162882</td>\n",
       "      <td>49.775421</td>\n",
       "      <td>0.752740</td>\n",
       "      <td>52.420910</td>\n",
       "      <td>-1.690215</td>\n",
       "      <td>36.524071</td>\n",
       "      <td>-0.408979</td>\n",
       "      <td>41.597103</td>\n",
       "      <td>-2.303523</td>\n",
       "      <td>55.062923</td>\n",
       "      <td>1.221291</td>\n",
       "      <td>46.936035</td>\n",
       "      <td>blues</td>\n",
       "    </tr>\n",
       "    <tr>\n",
       "      <th>1</th>\n",
       "      <td>blues.00001.wav</td>\n",
       "      <td>661794</td>\n",
       "      <td>0.340914</td>\n",
       "      <td>0.094980</td>\n",
       "      <td>0.095948</td>\n",
       "      <td>0.002373</td>\n",
       "      <td>1530.176679</td>\n",
       "      <td>375850.073649</td>\n",
       "      <td>2039.036516</td>\n",
       "      <td>213843.755497</td>\n",
       "      <td>3550.522098</td>\n",
       "      <td>2.977893e+06</td>\n",
       "      <td>0.056040</td>\n",
       "      <td>0.001448</td>\n",
       "      <td>1.395807e-04</td>\n",
       "      <td>0.005099</td>\n",
       "      <td>-0.000178</td>\n",
       "      <td>0.003063</td>\n",
       "      <td>67.999589</td>\n",
       "      <td>-207.501694</td>\n",
       "      <td>7764.555176</td>\n",
       "      <td>123.991264</td>\n",
       "      <td>560.259949</td>\n",
       "      <td>8.955127</td>\n",
       "      <td>572.810913</td>\n",
       "      <td>35.877647</td>\n",
       "      <td>264.506104</td>\n",
       "      <td>2.907320</td>\n",
       "      <td>279.932922</td>\n",
       "      <td>21.510466</td>\n",
       "      <td>156.477097</td>\n",
       "      <td>-8.560436</td>\n",
       "      <td>200.849182</td>\n",
       "      <td>23.370686</td>\n",
       "      <td>142.555954</td>\n",
       "      <td>-10.099661</td>\n",
       "      <td>166.108521</td>\n",
       "      <td>11.900497</td>\n",
       "      <td>104.358612</td>\n",
       "      <td>-5.555639</td>\n",
       "      <td>105.173630</td>\n",
       "      <td>5.376327</td>\n",
       "      <td>96.197212</td>\n",
       "      <td>-2.231760</td>\n",
       "      <td>64.914291</td>\n",
       "      <td>4.220140</td>\n",
       "      <td>73.152534</td>\n",
       "      <td>-6.012148</td>\n",
       "      <td>52.422142</td>\n",
       "      <td>0.927998</td>\n",
       "      <td>55.356403</td>\n",
       "      <td>-0.731125</td>\n",
       "      <td>60.314529</td>\n",
       "      <td>0.295073</td>\n",
       "      <td>48.120598</td>\n",
       "      <td>-0.283518</td>\n",
       "      <td>51.106190</td>\n",
       "      <td>0.531217</td>\n",
       "      <td>45.786282</td>\n",
       "      <td>blues</td>\n",
       "    </tr>\n",
       "    <tr>\n",
       "      <th>2</th>\n",
       "      <td>blues.00002.wav</td>\n",
       "      <td>661794</td>\n",
       "      <td>0.363637</td>\n",
       "      <td>0.085275</td>\n",
       "      <td>0.175570</td>\n",
       "      <td>0.002746</td>\n",
       "      <td>1552.811865</td>\n",
       "      <td>156467.643368</td>\n",
       "      <td>1747.702312</td>\n",
       "      <td>76254.192257</td>\n",
       "      <td>3042.260232</td>\n",
       "      <td>7.840345e+05</td>\n",
       "      <td>0.076291</td>\n",
       "      <td>0.001007</td>\n",
       "      <td>2.105576e-06</td>\n",
       "      <td>0.016342</td>\n",
       "      <td>-0.000019</td>\n",
       "      <td>0.007458</td>\n",
       "      <td>161.499023</td>\n",
       "      <td>-90.722595</td>\n",
       "      <td>3319.044922</td>\n",
       "      <td>140.446304</td>\n",
       "      <td>508.765045</td>\n",
       "      <td>-29.093889</td>\n",
       "      <td>411.781219</td>\n",
       "      <td>31.684334</td>\n",
       "      <td>144.090317</td>\n",
       "      <td>-13.984504</td>\n",
       "      <td>155.493759</td>\n",
       "      <td>25.764742</td>\n",
       "      <td>74.548401</td>\n",
       "      <td>-13.664875</td>\n",
       "      <td>106.981827</td>\n",
       "      <td>11.639934</td>\n",
       "      <td>106.574875</td>\n",
       "      <td>-11.783643</td>\n",
       "      <td>65.447945</td>\n",
       "      <td>9.718760</td>\n",
       "      <td>67.908859</td>\n",
       "      <td>-13.133803</td>\n",
       "      <td>57.781425</td>\n",
       "      <td>5.791199</td>\n",
       "      <td>64.480209</td>\n",
       "      <td>-8.907628</td>\n",
       "      <td>60.385151</td>\n",
       "      <td>-1.077000</td>\n",
       "      <td>57.711136</td>\n",
       "      <td>-9.229274</td>\n",
       "      <td>36.580986</td>\n",
       "      <td>2.451690</td>\n",
       "      <td>40.598766</td>\n",
       "      <td>-7.729093</td>\n",
       "      <td>47.639427</td>\n",
       "      <td>-1.816407</td>\n",
       "      <td>52.382141</td>\n",
       "      <td>-3.439720</td>\n",
       "      <td>46.639660</td>\n",
       "      <td>-2.231258</td>\n",
       "      <td>30.573025</td>\n",
       "      <td>blues</td>\n",
       "    </tr>\n",
       "    <tr>\n",
       "      <th>3</th>\n",
       "      <td>blues.00003.wav</td>\n",
       "      <td>661794</td>\n",
       "      <td>0.404785</td>\n",
       "      <td>0.093999</td>\n",
       "      <td>0.141093</td>\n",
       "      <td>0.006346</td>\n",
       "      <td>1070.106615</td>\n",
       "      <td>184355.942417</td>\n",
       "      <td>1596.412872</td>\n",
       "      <td>166441.494769</td>\n",
       "      <td>2184.745799</td>\n",
       "      <td>1.493194e+06</td>\n",
       "      <td>0.033309</td>\n",
       "      <td>0.000423</td>\n",
       "      <td>4.583644e-07</td>\n",
       "      <td>0.019054</td>\n",
       "      <td>-0.000014</td>\n",
       "      <td>0.002712</td>\n",
       "      <td>63.024009</td>\n",
       "      <td>-199.544205</td>\n",
       "      <td>5507.517090</td>\n",
       "      <td>150.090897</td>\n",
       "      <td>456.505402</td>\n",
       "      <td>5.662678</td>\n",
       "      <td>257.161163</td>\n",
       "      <td>26.859079</td>\n",
       "      <td>158.267303</td>\n",
       "      <td>1.771399</td>\n",
       "      <td>268.034393</td>\n",
       "      <td>14.234031</td>\n",
       "      <td>126.794128</td>\n",
       "      <td>-4.832006</td>\n",
       "      <td>155.912079</td>\n",
       "      <td>9.286494</td>\n",
       "      <td>81.273743</td>\n",
       "      <td>-0.759186</td>\n",
       "      <td>92.114090</td>\n",
       "      <td>8.137607</td>\n",
       "      <td>71.314079</td>\n",
       "      <td>-3.200653</td>\n",
       "      <td>110.236687</td>\n",
       "      <td>6.079319</td>\n",
       "      <td>48.251999</td>\n",
       "      <td>-2.480174</td>\n",
       "      <td>56.799400</td>\n",
       "      <td>-1.079305</td>\n",
       "      <td>62.289902</td>\n",
       "      <td>-2.870789</td>\n",
       "      <td>51.651592</td>\n",
       "      <td>0.780874</td>\n",
       "      <td>44.427753</td>\n",
       "      <td>-3.319597</td>\n",
       "      <td>50.206673</td>\n",
       "      <td>0.636965</td>\n",
       "      <td>37.319130</td>\n",
       "      <td>-0.619121</td>\n",
       "      <td>37.259739</td>\n",
       "      <td>-3.407448</td>\n",
       "      <td>31.949339</td>\n",
       "      <td>blues</td>\n",
       "    </tr>\n",
       "    <tr>\n",
       "      <th>4</th>\n",
       "      <td>blues.00004.wav</td>\n",
       "      <td>661794</td>\n",
       "      <td>0.308526</td>\n",
       "      <td>0.087841</td>\n",
       "      <td>0.091529</td>\n",
       "      <td>0.002303</td>\n",
       "      <td>1835.004266</td>\n",
       "      <td>343399.939274</td>\n",
       "      <td>1748.172116</td>\n",
       "      <td>88445.209036</td>\n",
       "      <td>3579.757627</td>\n",
       "      <td>1.572978e+06</td>\n",
       "      <td>0.101461</td>\n",
       "      <td>0.001954</td>\n",
       "      <td>-1.756129e-05</td>\n",
       "      <td>0.004814</td>\n",
       "      <td>-0.000010</td>\n",
       "      <td>0.003094</td>\n",
       "      <td>135.999178</td>\n",
       "      <td>-160.337708</td>\n",
       "      <td>5195.291992</td>\n",
       "      <td>126.219635</td>\n",
       "      <td>853.784729</td>\n",
       "      <td>-35.587811</td>\n",
       "      <td>333.792938</td>\n",
       "      <td>22.148071</td>\n",
       "      <td>193.456100</td>\n",
       "      <td>-32.478600</td>\n",
       "      <td>336.276825</td>\n",
       "      <td>10.852294</td>\n",
       "      <td>134.831573</td>\n",
       "      <td>-23.352329</td>\n",
       "      <td>93.257095</td>\n",
       "      <td>0.498434</td>\n",
       "      <td>124.672127</td>\n",
       "      <td>-11.793437</td>\n",
       "      <td>130.073349</td>\n",
       "      <td>1.207256</td>\n",
       "      <td>99.675575</td>\n",
       "      <td>-13.088418</td>\n",
       "      <td>80.254066</td>\n",
       "      <td>-2.813867</td>\n",
       "      <td>86.430626</td>\n",
       "      <td>-6.933385</td>\n",
       "      <td>89.555443</td>\n",
       "      <td>-7.552725</td>\n",
       "      <td>70.943336</td>\n",
       "      <td>-9.164666</td>\n",
       "      <td>75.793404</td>\n",
       "      <td>-4.520576</td>\n",
       "      <td>86.099236</td>\n",
       "      <td>-5.454034</td>\n",
       "      <td>75.269707</td>\n",
       "      <td>-0.916874</td>\n",
       "      <td>53.613918</td>\n",
       "      <td>-4.404827</td>\n",
       "      <td>62.910812</td>\n",
       "      <td>-11.703234</td>\n",
       "      <td>55.195160</td>\n",
       "      <td>blues</td>\n",
       "    </tr>\n",
       "  </tbody>\n",
       "</table>\n",
       "</div>"
      ],
      "text/plain": [
       "          filename  length  chroma_stft_mean  chroma_stft_var  rms_mean  \\\n",
       "0  blues.00000.wav  661794          0.350088         0.088757  0.130228   \n",
       "1  blues.00001.wav  661794          0.340914         0.094980  0.095948   \n",
       "2  blues.00002.wav  661794          0.363637         0.085275  0.175570   \n",
       "3  blues.00003.wav  661794          0.404785         0.093999  0.141093   \n",
       "4  blues.00004.wav  661794          0.308526         0.087841  0.091529   \n",
       "\n",
       "    rms_var  spectral_centroid_mean  spectral_centroid_var  \\\n",
       "0  0.002827             1784.165850          129774.064525   \n",
       "1  0.002373             1530.176679          375850.073649   \n",
       "2  0.002746             1552.811865          156467.643368   \n",
       "3  0.006346             1070.106615          184355.942417   \n",
       "4  0.002303             1835.004266          343399.939274   \n",
       "\n",
       "   spectral_bandwidth_mean  spectral_bandwidth_var  rolloff_mean  \\\n",
       "0              2002.449060            85882.761315   3805.839606   \n",
       "1              2039.036516           213843.755497   3550.522098   \n",
       "2              1747.702312            76254.192257   3042.260232   \n",
       "3              1596.412872           166441.494769   2184.745799   \n",
       "4              1748.172116            88445.209036   3579.757627   \n",
       "\n",
       "    rolloff_var  zero_crossing_rate_mean  zero_crossing_rate_var  \\\n",
       "0  9.015054e+05                 0.083045                0.000767   \n",
       "1  2.977893e+06                 0.056040                0.001448   \n",
       "2  7.840345e+05                 0.076291                0.001007   \n",
       "3  1.493194e+06                 0.033309                0.000423   \n",
       "4  1.572978e+06                 0.101461                0.001954   \n",
       "\n",
       "   harmony_mean  harmony_var  perceptr_mean  perceptr_var       tempo  \\\n",
       "0 -4.529724e-05     0.008172       0.000008      0.005698  123.046875   \n",
       "1  1.395807e-04     0.005099      -0.000178      0.003063   67.999589   \n",
       "2  2.105576e-06     0.016342      -0.000019      0.007458  161.499023   \n",
       "3  4.583644e-07     0.019054      -0.000014      0.002712   63.024009   \n",
       "4 -1.756129e-05     0.004814      -0.000010      0.003094  135.999178   \n",
       "\n",
       "   mfcc1_mean    mfcc1_var  mfcc2_mean   mfcc2_var  mfcc3_mean   mfcc3_var  \\\n",
       "0 -113.570648  2564.207520  121.571793  295.913818  -19.168142  235.574432   \n",
       "1 -207.501694  7764.555176  123.991264  560.259949    8.955127  572.810913   \n",
       "2  -90.722595  3319.044922  140.446304  508.765045  -29.093889  411.781219   \n",
       "3 -199.544205  5507.517090  150.090897  456.505402    5.662678  257.161163   \n",
       "4 -160.337708  5195.291992  126.219635  853.784729  -35.587811  333.792938   \n",
       "\n",
       "   mfcc4_mean   mfcc4_var  mfcc5_mean   mfcc5_var  mfcc6_mean   mfcc6_var  \\\n",
       "0   42.366421  151.106873   -6.364664  167.934799   18.623499   89.180840   \n",
       "1   35.877647  264.506104    2.907320  279.932922   21.510466  156.477097   \n",
       "2   31.684334  144.090317  -13.984504  155.493759   25.764742   74.548401   \n",
       "3   26.859079  158.267303    1.771399  268.034393   14.234031  126.794128   \n",
       "4   22.148071  193.456100  -32.478600  336.276825   10.852294  134.831573   \n",
       "\n",
       "   mfcc7_mean   mfcc7_var  mfcc8_mean   mfcc8_var  mfcc9_mean   mfcc9_var  \\\n",
       "0  -13.704891   67.660492   15.343150   68.932579  -12.274110   82.204201   \n",
       "1   -8.560436  200.849182   23.370686  142.555954  -10.099661  166.108521   \n",
       "2  -13.664875  106.981827   11.639934  106.574875  -11.783643   65.447945   \n",
       "3   -4.832006  155.912079    9.286494   81.273743   -0.759186   92.114090   \n",
       "4  -23.352329   93.257095    0.498434  124.672127  -11.793437  130.073349   \n",
       "\n",
       "   mfcc10_mean  mfcc10_var  mfcc11_mean  mfcc11_var  mfcc12_mean  mfcc12_var  \\\n",
       "0    10.976572   63.386311    -8.326573   61.773094     8.803792   51.244125   \n",
       "1    11.900497  104.358612    -5.555639  105.173630     5.376327   96.197212   \n",
       "2     9.718760   67.908859   -13.133803   57.781425     5.791199   64.480209   \n",
       "3     8.137607   71.314079    -3.200653  110.236687     6.079319   48.251999   \n",
       "4     1.207256   99.675575   -13.088418   80.254066    -2.813867   86.430626   \n",
       "\n",
       "   mfcc13_mean  mfcc13_var  mfcc14_mean  mfcc14_var  mfcc15_mean  mfcc15_var  \\\n",
       "0    -3.672300   41.217415     5.747995   40.554478    -5.162882   49.775421   \n",
       "1    -2.231760   64.914291     4.220140   73.152534    -6.012148   52.422142   \n",
       "2    -8.907628   60.385151    -1.077000   57.711136    -9.229274   36.580986   \n",
       "3    -2.480174   56.799400    -1.079305   62.289902    -2.870789   51.651592   \n",
       "4    -6.933385   89.555443    -7.552725   70.943336    -9.164666   75.793404   \n",
       "\n",
       "   mfcc16_mean  mfcc16_var  mfcc17_mean  mfcc17_var  mfcc18_mean  mfcc18_var  \\\n",
       "0     0.752740   52.420910    -1.690215   36.524071    -0.408979   41.597103   \n",
       "1     0.927998   55.356403    -0.731125   60.314529     0.295073   48.120598   \n",
       "2     2.451690   40.598766    -7.729093   47.639427    -1.816407   52.382141   \n",
       "3     0.780874   44.427753    -3.319597   50.206673     0.636965   37.319130   \n",
       "4    -4.520576   86.099236    -5.454034   75.269707    -0.916874   53.613918   \n",
       "\n",
       "   mfcc19_mean  mfcc19_var  mfcc20_mean  mfcc20_var  label  \n",
       "0    -2.303523   55.062923     1.221291   46.936035  blues  \n",
       "1    -0.283518   51.106190     0.531217   45.786282  blues  \n",
       "2    -3.439720   46.639660    -2.231258   30.573025  blues  \n",
       "3    -0.619121   37.259739    -3.407448   31.949339  blues  \n",
       "4    -4.404827   62.910812   -11.703234   55.195160  blues  "
      ]
     },
     "execution_count": 3,
     "metadata": {},
     "output_type": "execute_result"
    }
   ],
   "source": [
    "# load dataset\n",
    "df = pd.read_csv('features_30_sec.csv')\n",
    "\n",
    "# display the first five rows\n",
    "df.head()"
   ]
  },
  {
   "cell_type": "code",
   "execution_count": 4,
   "id": "8c46fc37",
   "metadata": {},
   "outputs": [
    {
     "data": {
      "text/html": [
       "<div>\n",
       "<style scoped>\n",
       "    .dataframe tbody tr th:only-of-type {\n",
       "        vertical-align: middle;\n",
       "    }\n",
       "\n",
       "    .dataframe tbody tr th {\n",
       "        vertical-align: top;\n",
       "    }\n",
       "\n",
       "    .dataframe thead th {\n",
       "        text-align: right;\n",
       "    }\n",
       "</style>\n",
       "<table border=\"1\" class=\"dataframe\">\n",
       "  <thead>\n",
       "    <tr style=\"text-align: right;\">\n",
       "      <th></th>\n",
       "      <th>filename</th>\n",
       "      <th>length</th>\n",
       "      <th>chroma_stft_mean</th>\n",
       "      <th>chroma_stft_var</th>\n",
       "      <th>rms_mean</th>\n",
       "      <th>rms_var</th>\n",
       "      <th>spectral_centroid_mean</th>\n",
       "      <th>spectral_centroid_var</th>\n",
       "      <th>spectral_bandwidth_mean</th>\n",
       "      <th>spectral_bandwidth_var</th>\n",
       "      <th>rolloff_mean</th>\n",
       "      <th>rolloff_var</th>\n",
       "      <th>zero_crossing_rate_mean</th>\n",
       "      <th>zero_crossing_rate_var</th>\n",
       "      <th>harmony_mean</th>\n",
       "      <th>harmony_var</th>\n",
       "      <th>perceptr_mean</th>\n",
       "      <th>perceptr_var</th>\n",
       "      <th>tempo</th>\n",
       "      <th>mfcc1_mean</th>\n",
       "      <th>mfcc1_var</th>\n",
       "      <th>mfcc2_mean</th>\n",
       "      <th>mfcc2_var</th>\n",
       "      <th>mfcc3_mean</th>\n",
       "      <th>mfcc3_var</th>\n",
       "      <th>mfcc4_mean</th>\n",
       "      <th>mfcc4_var</th>\n",
       "      <th>mfcc5_mean</th>\n",
       "      <th>mfcc5_var</th>\n",
       "      <th>mfcc6_mean</th>\n",
       "      <th>mfcc6_var</th>\n",
       "      <th>mfcc7_mean</th>\n",
       "      <th>mfcc7_var</th>\n",
       "      <th>mfcc8_mean</th>\n",
       "      <th>mfcc8_var</th>\n",
       "      <th>mfcc9_mean</th>\n",
       "      <th>mfcc9_var</th>\n",
       "      <th>mfcc10_mean</th>\n",
       "      <th>mfcc10_var</th>\n",
       "      <th>mfcc11_mean</th>\n",
       "      <th>mfcc11_var</th>\n",
       "      <th>mfcc12_mean</th>\n",
       "      <th>mfcc12_var</th>\n",
       "      <th>mfcc13_mean</th>\n",
       "      <th>mfcc13_var</th>\n",
       "      <th>mfcc14_mean</th>\n",
       "      <th>mfcc14_var</th>\n",
       "      <th>mfcc15_mean</th>\n",
       "      <th>mfcc15_var</th>\n",
       "      <th>mfcc16_mean</th>\n",
       "      <th>mfcc16_var</th>\n",
       "      <th>mfcc17_mean</th>\n",
       "      <th>mfcc17_var</th>\n",
       "      <th>mfcc18_mean</th>\n",
       "      <th>mfcc18_var</th>\n",
       "      <th>mfcc19_mean</th>\n",
       "      <th>mfcc19_var</th>\n",
       "      <th>mfcc20_mean</th>\n",
       "      <th>mfcc20_var</th>\n",
       "      <th>label</th>\n",
       "    </tr>\n",
       "  </thead>\n",
       "  <tbody>\n",
       "    <tr>\n",
       "      <th>995</th>\n",
       "      <td>rock.00095.wav</td>\n",
       "      <td>661794</td>\n",
       "      <td>0.352063</td>\n",
       "      <td>0.080487</td>\n",
       "      <td>0.079486</td>\n",
       "      <td>0.000345</td>\n",
       "      <td>2008.149458</td>\n",
       "      <td>282174.689224</td>\n",
       "      <td>2106.541053</td>\n",
       "      <td>88609.749506</td>\n",
       "      <td>4253.557033</td>\n",
       "      <td>1.222421e+06</td>\n",
       "      <td>0.089227</td>\n",
       "      <td>0.001305</td>\n",
       "      <td>1.926835e-06</td>\n",
       "      <td>0.004594</td>\n",
       "      <td>-0.000012</td>\n",
       "      <td>0.000681</td>\n",
       "      <td>103.359375</td>\n",
       "      <td>-153.640961</td>\n",
       "      <td>2540.949463</td>\n",
       "      <td>109.864647</td>\n",
       "      <td>455.579956</td>\n",
       "      <td>-23.065695</td>\n",
       "      <td>189.883865</td>\n",
       "      <td>59.050125</td>\n",
       "      <td>132.334518</td>\n",
       "      <td>-7.475873</td>\n",
       "      <td>92.553497</td>\n",
       "      <td>19.726795</td>\n",
       "      <td>58.462181</td>\n",
       "      <td>-16.484838</td>\n",
       "      <td>89.278427</td>\n",
       "      <td>18.066439</td>\n",
       "      <td>43.789928</td>\n",
       "      <td>-22.202005</td>\n",
       "      <td>77.724525</td>\n",
       "      <td>15.409106</td>\n",
       "      <td>61.443748</td>\n",
       "      <td>-12.372051</td>\n",
       "      <td>42.666080</td>\n",
       "      <td>12.348828</td>\n",
       "      <td>43.414345</td>\n",
       "      <td>-12.297895</td>\n",
       "      <td>49.383522</td>\n",
       "      <td>5.777902</td>\n",
       "      <td>56.457893</td>\n",
       "      <td>-10.273881</td>\n",
       "      <td>36.433578</td>\n",
       "      <td>1.789867</td>\n",
       "      <td>45.050526</td>\n",
       "      <td>-13.289984</td>\n",
       "      <td>41.754955</td>\n",
       "      <td>2.484145</td>\n",
       "      <td>36.778877</td>\n",
       "      <td>-6.713265</td>\n",
       "      <td>54.866825</td>\n",
       "      <td>-1.193787</td>\n",
       "      <td>49.950665</td>\n",
       "      <td>rock</td>\n",
       "    </tr>\n",
       "    <tr>\n",
       "      <th>996</th>\n",
       "      <td>rock.00096.wav</td>\n",
       "      <td>661794</td>\n",
       "      <td>0.398687</td>\n",
       "      <td>0.075086</td>\n",
       "      <td>0.076458</td>\n",
       "      <td>0.000588</td>\n",
       "      <td>2006.843354</td>\n",
       "      <td>182114.709510</td>\n",
       "      <td>2068.942009</td>\n",
       "      <td>82426.016726</td>\n",
       "      <td>4149.338328</td>\n",
       "      <td>1.046621e+06</td>\n",
       "      <td>0.097664</td>\n",
       "      <td>0.000868</td>\n",
       "      <td>-1.406142e-06</td>\n",
       "      <td>0.003981</td>\n",
       "      <td>-0.000012</td>\n",
       "      <td>0.000818</td>\n",
       "      <td>117.453835</td>\n",
       "      <td>-142.392029</td>\n",
       "      <td>3282.358887</td>\n",
       "      <td>116.189629</td>\n",
       "      <td>345.518890</td>\n",
       "      <td>-32.147167</td>\n",
       "      <td>191.464813</td>\n",
       "      <td>49.117840</td>\n",
       "      <td>66.674255</td>\n",
       "      <td>-8.373376</td>\n",
       "      <td>81.370674</td>\n",
       "      <td>22.882061</td>\n",
       "      <td>44.545662</td>\n",
       "      <td>-18.315985</td>\n",
       "      <td>63.946007</td>\n",
       "      <td>20.098146</td>\n",
       "      <td>43.887966</td>\n",
       "      <td>-22.093319</td>\n",
       "      <td>37.119415</td>\n",
       "      <td>10.798820</td>\n",
       "      <td>53.151684</td>\n",
       "      <td>-12.979385</td>\n",
       "      <td>44.253551</td>\n",
       "      <td>14.080058</td>\n",
       "      <td>38.195637</td>\n",
       "      <td>-16.392994</td>\n",
       "      <td>34.824745</td>\n",
       "      <td>4.154395</td>\n",
       "      <td>29.224157</td>\n",
       "      <td>-4.364872</td>\n",
       "      <td>43.484493</td>\n",
       "      <td>3.739020</td>\n",
       "      <td>33.851742</td>\n",
       "      <td>-10.848309</td>\n",
       "      <td>39.395096</td>\n",
       "      <td>1.881229</td>\n",
       "      <td>32.010040</td>\n",
       "      <td>-7.461491</td>\n",
       "      <td>39.196327</td>\n",
       "      <td>-2.795338</td>\n",
       "      <td>31.773624</td>\n",
       "      <td>rock</td>\n",
       "    </tr>\n",
       "    <tr>\n",
       "      <th>997</th>\n",
       "      <td>rock.00097.wav</td>\n",
       "      <td>661794</td>\n",
       "      <td>0.432142</td>\n",
       "      <td>0.075268</td>\n",
       "      <td>0.081651</td>\n",
       "      <td>0.000322</td>\n",
       "      <td>2077.526598</td>\n",
       "      <td>231657.968040</td>\n",
       "      <td>1927.293153</td>\n",
       "      <td>74717.124394</td>\n",
       "      <td>4031.405321</td>\n",
       "      <td>8.042154e+05</td>\n",
       "      <td>0.121823</td>\n",
       "      <td>0.001697</td>\n",
       "      <td>-4.881450e-07</td>\n",
       "      <td>0.003825</td>\n",
       "      <td>-0.000014</td>\n",
       "      <td>0.001124</td>\n",
       "      <td>129.199219</td>\n",
       "      <td>-124.952271</td>\n",
       "      <td>1681.638794</td>\n",
       "      <td>115.177155</td>\n",
       "      <td>475.088074</td>\n",
       "      <td>-47.975151</td>\n",
       "      <td>290.302795</td>\n",
       "      <td>52.814674</td>\n",
       "      <td>113.682693</td>\n",
       "      <td>-13.484810</td>\n",
       "      <td>77.294281</td>\n",
       "      <td>21.742352</td>\n",
       "      <td>81.096153</td>\n",
       "      <td>-12.407492</td>\n",
       "      <td>59.990017</td>\n",
       "      <td>20.122042</td>\n",
       "      <td>41.712540</td>\n",
       "      <td>-18.363756</td>\n",
       "      <td>44.554043</td>\n",
       "      <td>10.120382</td>\n",
       "      <td>82.069191</td>\n",
       "      <td>-16.037611</td>\n",
       "      <td>43.337452</td>\n",
       "      <td>10.474113</td>\n",
       "      <td>42.966385</td>\n",
       "      <td>-17.947060</td>\n",
       "      <td>44.368690</td>\n",
       "      <td>1.212127</td>\n",
       "      <td>37.248077</td>\n",
       "      <td>-11.519417</td>\n",
       "      <td>39.505585</td>\n",
       "      <td>1.838090</td>\n",
       "      <td>33.597008</td>\n",
       "      <td>-12.845291</td>\n",
       "      <td>36.367264</td>\n",
       "      <td>3.440978</td>\n",
       "      <td>36.001110</td>\n",
       "      <td>-12.588070</td>\n",
       "      <td>42.502201</td>\n",
       "      <td>-2.106337</td>\n",
       "      <td>29.865515</td>\n",
       "      <td>rock</td>\n",
       "    </tr>\n",
       "    <tr>\n",
       "      <th>998</th>\n",
       "      <td>rock.00098.wav</td>\n",
       "      <td>661794</td>\n",
       "      <td>0.362485</td>\n",
       "      <td>0.091506</td>\n",
       "      <td>0.083860</td>\n",
       "      <td>0.001211</td>\n",
       "      <td>1398.699344</td>\n",
       "      <td>240318.731073</td>\n",
       "      <td>1818.450280</td>\n",
       "      <td>109090.207161</td>\n",
       "      <td>3015.631004</td>\n",
       "      <td>1.332712e+06</td>\n",
       "      <td>0.048724</td>\n",
       "      <td>0.000808</td>\n",
       "      <td>7.986756e-07</td>\n",
       "      <td>0.006077</td>\n",
       "      <td>-0.000013</td>\n",
       "      <td>0.000653</td>\n",
       "      <td>73.828125</td>\n",
       "      <td>-225.007751</td>\n",
       "      <td>10766.367188</td>\n",
       "      <td>123.646751</td>\n",
       "      <td>492.819122</td>\n",
       "      <td>-9.724174</td>\n",
       "      <td>605.487488</td>\n",
       "      <td>56.605164</td>\n",
       "      <td>189.945770</td>\n",
       "      <td>10.436500</td>\n",
       "      <td>156.834641</td>\n",
       "      <td>20.622280</td>\n",
       "      <td>211.036163</td>\n",
       "      <td>-10.253696</td>\n",
       "      <td>107.069740</td>\n",
       "      <td>15.561657</td>\n",
       "      <td>103.171165</td>\n",
       "      <td>-8.227290</td>\n",
       "      <td>69.988968</td>\n",
       "      <td>12.800152</td>\n",
       "      <td>92.819435</td>\n",
       "      <td>-9.001975</td>\n",
       "      <td>63.858929</td>\n",
       "      <td>7.682845</td>\n",
       "      <td>75.528023</td>\n",
       "      <td>-10.070732</td>\n",
       "      <td>56.776089</td>\n",
       "      <td>-0.256386</td>\n",
       "      <td>42.620800</td>\n",
       "      <td>-5.275370</td>\n",
       "      <td>46.763134</td>\n",
       "      <td>-2.812176</td>\n",
       "      <td>46.324894</td>\n",
       "      <td>-4.416050</td>\n",
       "      <td>43.583942</td>\n",
       "      <td>1.556207</td>\n",
       "      <td>34.331261</td>\n",
       "      <td>-5.041897</td>\n",
       "      <td>47.227180</td>\n",
       "      <td>-3.590644</td>\n",
       "      <td>41.299088</td>\n",
       "      <td>rock</td>\n",
       "    </tr>\n",
       "    <tr>\n",
       "      <th>999</th>\n",
       "      <td>rock.00099.wav</td>\n",
       "      <td>661794</td>\n",
       "      <td>0.358401</td>\n",
       "      <td>0.085884</td>\n",
       "      <td>0.054454</td>\n",
       "      <td>0.000336</td>\n",
       "      <td>1609.795082</td>\n",
       "      <td>422203.216152</td>\n",
       "      <td>1797.213044</td>\n",
       "      <td>120115.632927</td>\n",
       "      <td>3246.908930</td>\n",
       "      <td>1.753476e+06</td>\n",
       "      <td>0.076305</td>\n",
       "      <td>0.002171</td>\n",
       "      <td>4.603694e-07</td>\n",
       "      <td>0.002664</td>\n",
       "      <td>-0.000016</td>\n",
       "      <td>0.000191</td>\n",
       "      <td>123.046875</td>\n",
       "      <td>-235.161972</td>\n",
       "      <td>7712.194336</td>\n",
       "      <td>123.870110</td>\n",
       "      <td>798.665283</td>\n",
       "      <td>-22.538395</td>\n",
       "      <td>518.708618</td>\n",
       "      <td>52.939743</td>\n",
       "      <td>228.190399</td>\n",
       "      <td>-1.444669</td>\n",
       "      <td>182.343460</td>\n",
       "      <td>24.641056</td>\n",
       "      <td>126.902298</td>\n",
       "      <td>-7.073817</td>\n",
       "      <td>119.129547</td>\n",
       "      <td>14.880081</td>\n",
       "      <td>93.618126</td>\n",
       "      <td>-12.769979</td>\n",
       "      <td>79.731667</td>\n",
       "      <td>16.712587</td>\n",
       "      <td>76.233124</td>\n",
       "      <td>-2.936967</td>\n",
       "      <td>79.307365</td>\n",
       "      <td>10.076435</td>\n",
       "      <td>45.758392</td>\n",
       "      <td>-15.024692</td>\n",
       "      <td>42.938053</td>\n",
       "      <td>3.116931</td>\n",
       "      <td>67.357964</td>\n",
       "      <td>-7.123283</td>\n",
       "      <td>58.056416</td>\n",
       "      <td>1.794104</td>\n",
       "      <td>59.167755</td>\n",
       "      <td>-7.069775</td>\n",
       "      <td>73.760391</td>\n",
       "      <td>0.028346</td>\n",
       "      <td>76.504326</td>\n",
       "      <td>-2.025783</td>\n",
       "      <td>72.189316</td>\n",
       "      <td>1.155239</td>\n",
       "      <td>49.662510</td>\n",
       "      <td>rock</td>\n",
       "    </tr>\n",
       "  </tbody>\n",
       "</table>\n",
       "</div>"
      ],
      "text/plain": [
       "           filename  length  chroma_stft_mean  chroma_stft_var  rms_mean  \\\n",
       "995  rock.00095.wav  661794          0.352063         0.080487  0.079486   \n",
       "996  rock.00096.wav  661794          0.398687         0.075086  0.076458   \n",
       "997  rock.00097.wav  661794          0.432142         0.075268  0.081651   \n",
       "998  rock.00098.wav  661794          0.362485         0.091506  0.083860   \n",
       "999  rock.00099.wav  661794          0.358401         0.085884  0.054454   \n",
       "\n",
       "      rms_var  spectral_centroid_mean  spectral_centroid_var  \\\n",
       "995  0.000345             2008.149458          282174.689224   \n",
       "996  0.000588             2006.843354          182114.709510   \n",
       "997  0.000322             2077.526598          231657.968040   \n",
       "998  0.001211             1398.699344          240318.731073   \n",
       "999  0.000336             1609.795082          422203.216152   \n",
       "\n",
       "     spectral_bandwidth_mean  spectral_bandwidth_var  rolloff_mean  \\\n",
       "995              2106.541053            88609.749506   4253.557033   \n",
       "996              2068.942009            82426.016726   4149.338328   \n",
       "997              1927.293153            74717.124394   4031.405321   \n",
       "998              1818.450280           109090.207161   3015.631004   \n",
       "999              1797.213044           120115.632927   3246.908930   \n",
       "\n",
       "      rolloff_var  zero_crossing_rate_mean  zero_crossing_rate_var  \\\n",
       "995  1.222421e+06                 0.089227                0.001305   \n",
       "996  1.046621e+06                 0.097664                0.000868   \n",
       "997  8.042154e+05                 0.121823                0.001697   \n",
       "998  1.332712e+06                 0.048724                0.000808   \n",
       "999  1.753476e+06                 0.076305                0.002171   \n",
       "\n",
       "     harmony_mean  harmony_var  perceptr_mean  perceptr_var       tempo  \\\n",
       "995  1.926835e-06     0.004594      -0.000012      0.000681  103.359375   \n",
       "996 -1.406142e-06     0.003981      -0.000012      0.000818  117.453835   \n",
       "997 -4.881450e-07     0.003825      -0.000014      0.001124  129.199219   \n",
       "998  7.986756e-07     0.006077      -0.000013      0.000653   73.828125   \n",
       "999  4.603694e-07     0.002664      -0.000016      0.000191  123.046875   \n",
       "\n",
       "     mfcc1_mean     mfcc1_var  mfcc2_mean   mfcc2_var  mfcc3_mean   mfcc3_var  \\\n",
       "995 -153.640961   2540.949463  109.864647  455.579956  -23.065695  189.883865   \n",
       "996 -142.392029   3282.358887  116.189629  345.518890  -32.147167  191.464813   \n",
       "997 -124.952271   1681.638794  115.177155  475.088074  -47.975151  290.302795   \n",
       "998 -225.007751  10766.367188  123.646751  492.819122   -9.724174  605.487488   \n",
       "999 -235.161972   7712.194336  123.870110  798.665283  -22.538395  518.708618   \n",
       "\n",
       "     mfcc4_mean   mfcc4_var  mfcc5_mean   mfcc5_var  mfcc6_mean   mfcc6_var  \\\n",
       "995   59.050125  132.334518   -7.475873   92.553497   19.726795   58.462181   \n",
       "996   49.117840   66.674255   -8.373376   81.370674   22.882061   44.545662   \n",
       "997   52.814674  113.682693  -13.484810   77.294281   21.742352   81.096153   \n",
       "998   56.605164  189.945770   10.436500  156.834641   20.622280  211.036163   \n",
       "999   52.939743  228.190399   -1.444669  182.343460   24.641056  126.902298   \n",
       "\n",
       "     mfcc7_mean   mfcc7_var  mfcc8_mean   mfcc8_var  mfcc9_mean  mfcc9_var  \\\n",
       "995  -16.484838   89.278427   18.066439   43.789928  -22.202005  77.724525   \n",
       "996  -18.315985   63.946007   20.098146   43.887966  -22.093319  37.119415   \n",
       "997  -12.407492   59.990017   20.122042   41.712540  -18.363756  44.554043   \n",
       "998  -10.253696  107.069740   15.561657  103.171165   -8.227290  69.988968   \n",
       "999   -7.073817  119.129547   14.880081   93.618126  -12.769979  79.731667   \n",
       "\n",
       "     mfcc10_mean  mfcc10_var  mfcc11_mean  mfcc11_var  mfcc12_mean  \\\n",
       "995    15.409106   61.443748   -12.372051   42.666080    12.348828   \n",
       "996    10.798820   53.151684   -12.979385   44.253551    14.080058   \n",
       "997    10.120382   82.069191   -16.037611   43.337452    10.474113   \n",
       "998    12.800152   92.819435    -9.001975   63.858929     7.682845   \n",
       "999    16.712587   76.233124    -2.936967   79.307365    10.076435   \n",
       "\n",
       "     mfcc12_var  mfcc13_mean  mfcc13_var  mfcc14_mean  mfcc14_var  \\\n",
       "995   43.414345   -12.297895   49.383522     5.777902   56.457893   \n",
       "996   38.195637   -16.392994   34.824745     4.154395   29.224157   \n",
       "997   42.966385   -17.947060   44.368690     1.212127   37.248077   \n",
       "998   75.528023   -10.070732   56.776089    -0.256386   42.620800   \n",
       "999   45.758392   -15.024692   42.938053     3.116931   67.357964   \n",
       "\n",
       "     mfcc15_mean  mfcc15_var  mfcc16_mean  mfcc16_var  mfcc17_mean  \\\n",
       "995   -10.273881   36.433578     1.789867   45.050526   -13.289984   \n",
       "996    -4.364872   43.484493     3.739020   33.851742   -10.848309   \n",
       "997   -11.519417   39.505585     1.838090   33.597008   -12.845291   \n",
       "998    -5.275370   46.763134    -2.812176   46.324894    -4.416050   \n",
       "999    -7.123283   58.056416     1.794104   59.167755    -7.069775   \n",
       "\n",
       "     mfcc17_var  mfcc18_mean  mfcc18_var  mfcc19_mean  mfcc19_var  \\\n",
       "995   41.754955     2.484145   36.778877    -6.713265   54.866825   \n",
       "996   39.395096     1.881229   32.010040    -7.461491   39.196327   \n",
       "997   36.367264     3.440978   36.001110   -12.588070   42.502201   \n",
       "998   43.583942     1.556207   34.331261    -5.041897   47.227180   \n",
       "999   73.760391     0.028346   76.504326    -2.025783   72.189316   \n",
       "\n",
       "     mfcc20_mean  mfcc20_var label  \n",
       "995    -1.193787   49.950665  rock  \n",
       "996    -2.795338   31.773624  rock  \n",
       "997    -2.106337   29.865515  rock  \n",
       "998    -3.590644   41.299088  rock  \n",
       "999     1.155239   49.662510  rock  "
      ]
     },
     "execution_count": 4,
     "metadata": {},
     "output_type": "execute_result"
    }
   ],
   "source": [
    "# display the last five rows\n",
    "df.tail()"
   ]
  },
  {
   "cell_type": "code",
   "execution_count": 5,
   "id": "2ea94118",
   "metadata": {},
   "outputs": [
    {
     "data": {
      "text/plain": [
       "(1000, 60)"
      ]
     },
     "execution_count": 5,
     "metadata": {},
     "output_type": "execute_result"
    }
   ],
   "source": [
    "# the shape of the dataset\n",
    "df.shape"
   ]
  },
  {
   "cell_type": "code",
   "execution_count": 6,
   "id": "1309619e",
   "metadata": {},
   "outputs": [
    {
     "data": {
      "image/png": "[encoded data removed]",
      "text/plain": [
       "<Figure size 432x288 with 1 Axes>"
      ]
     },
     "metadata": {},
     "output_type": "display_data"
    }
   ],
   "source": [
    "sns.histplot(data=df, y=\"label\", hue='label')\n",
    "plt.show()"
   ]
  },
  {
   "cell_type": "code",
   "execution_count": 7,
   "id": "3382f3a6",
   "metadata": {},
   "outputs": [
    {
     "data": {
      "text/plain": [
       "<AxesSubplot:xlabel='count', ylabel='label'>"
      ]
     },
     "execution_count": 7,
     "metadata": {},
     "output_type": "execute_result"
    },
    {
     "data": {
      "image/png": "[encoded data removed]",
      "text/plain": [
       "<Figure size 432x288 with 1 Axes>"
      ]
     },
     "metadata": {},
     "output_type": "display_data"
    }
   ],
   "source": [
    "sns.countplot(y='label', data=df)"
   ]
  },
  {
   "cell_type": "markdown",
   "id": "49eadcb7",
   "metadata": {},
   "source": [
    "The above plot show that distribution of labels in the dataset. It indicates that there are equal numbers of the of each label in the datasets; 10 X 999 would equal 9990, the total number of rows in the dataset. \n",
    "\n",
    "There are no sparse and mislabeled classes. "
   ]
  },
  {
   "cell_type": "code",
   "execution_count": 8,
   "id": "2d801461",
   "metadata": {},
   "outputs": [
    {
     "data": {
      "text/plain": [
       "array(['blues', 'classical', 'country', 'disco', 'hiphop', 'jazz',\n",
       "       'metal', 'pop', 'reggae', 'rock'], dtype=object)"
      ]
     },
     "execution_count": 8,
     "metadata": {},
     "output_type": "execute_result"
    }
   ],
   "source": [
    "df.label.unique() # unique classes in the target variable"
   ]
  },
  {
   "cell_type": "code",
   "execution_count": 9,
   "id": "e9614fa0",
   "metadata": {},
   "outputs": [
    {
     "data": {
      "text/plain": [
       "filename                    object\n",
       "length                       int64\n",
       "chroma_stft_mean           float64\n",
       "chroma_stft_var            float64\n",
       "rms_mean                   float64\n",
       "rms_var                    float64\n",
       "spectral_centroid_mean     float64\n",
       "spectral_centroid_var      float64\n",
       "spectral_bandwidth_mean    float64\n",
       "spectral_bandwidth_var     float64\n",
       "rolloff_mean               float64\n",
       "rolloff_var                float64\n",
       "zero_crossing_rate_mean    float64\n",
       "zero_crossing_rate_var     float64\n",
       "harmony_mean               float64\n",
       "harmony_var                float64\n",
       "perceptr_mean              float64\n",
       "perceptr_var               float64\n",
       "tempo                      float64\n",
       "mfcc1_mean                 float64\n",
       "mfcc1_var                  float64\n",
       "mfcc2_mean                 float64\n",
       "mfcc2_var                  float64\n",
       "mfcc3_mean                 float64\n",
       "mfcc3_var                  float64\n",
       "mfcc4_mean                 float64\n",
       "mfcc4_var                  float64\n",
       "mfcc5_mean                 float64\n",
       "mfcc5_var                  float64\n",
       "mfcc6_mean                 float64\n",
       "mfcc6_var                  float64\n",
       "mfcc7_mean                 float64\n",
       "mfcc7_var                  float64\n",
       "mfcc8_mean                 float64\n",
       "mfcc8_var                  float64\n",
       "mfcc9_mean                 float64\n",
       "mfcc9_var                  float64\n",
       "mfcc10_mean                float64\n",
       "mfcc10_var                 float64\n",
       "mfcc11_mean                float64\n",
       "mfcc11_var                 float64\n",
       "mfcc12_mean                float64\n",
       "mfcc12_var                 float64\n",
       "mfcc13_mean                float64\n",
       "mfcc13_var                 float64\n",
       "mfcc14_mean                float64\n",
       "mfcc14_var                 float64\n",
       "mfcc15_mean                float64\n",
       "mfcc15_var                 float64\n",
       "mfcc16_mean                float64\n",
       "mfcc16_var                 float64\n",
       "mfcc17_mean                float64\n",
       "mfcc17_var                 float64\n",
       "mfcc18_mean                float64\n",
       "mfcc18_var                 float64\n",
       "mfcc19_mean                float64\n",
       "mfcc19_var                 float64\n",
       "mfcc20_mean                float64\n",
       "mfcc20_var                 float64\n",
       "label                       object\n",
       "dtype: object"
      ]
     },
     "execution_count": 9,
     "metadata": {},
     "output_type": "execute_result"
    }
   ],
   "source": [
    "df.dtypes"
   ]
  },
  {
   "cell_type": "markdown",
   "id": "6029ef7a",
   "metadata": {},
   "source": [
    "## Data Cleaning"
   ]
  },
  {
   "cell_type": "code",
   "execution_count": 10,
   "id": "4937f2e9",
   "metadata": {},
   "outputs": [
    {
     "data": {
      "text/plain": [
       "(1000, 60)"
      ]
     },
     "execution_count": 10,
     "metadata": {},
     "output_type": "execute_result"
    }
   ],
   "source": [
    "# drop duplicates \n",
    "df.drop_duplicates().shape"
   ]
  },
  {
   "cell_type": "markdown",
   "id": "c11bc396",
   "metadata": {},
   "source": [
    "There are no duplicated rows in the the dataset as t shape of remains the same after application of the drop_duplicates method.\n",
    "\n",
    "The 'filename' and 'length' columns will be removed from the set. 'filename' serves more as an informational guide  and has no bearing as a feature influencing the nature of the sound. 'length' is the same for all the audio clips used to extract the features from examples. It therefore functions as a kind of experimental control ensuring that a common condition of the examples."
   ]
  },
  {
   "cell_type": "code",
   "execution_count": 11,
   "id": "610dcd43",
   "metadata": {},
   "outputs": [
    {
     "data": {
      "text/plain": [
       "array([661794, 669680, 661676, 665280, 661760, 663520, 661408, 661344,\n",
       "       670120, 672282, 663080, 663300, 666820, 668800, 661100, 663740,\n",
       "       664180, 666160, 668140, 667920, 665060, 661504, 664400, 669240,\n",
       "       660000, 667700, 675808, 665940, 662112, 672100, 661980, 667480,\n",
       "       661500, 670340, 669460], dtype=int64)"
      ]
     },
     "execution_count": 11,
     "metadata": {},
     "output_type": "execute_result"
    }
   ],
   "source": [
    "df.length.unique()"
   ]
  },
  {
   "cell_type": "code",
   "execution_count": 12,
   "id": "ef5d1dea",
   "metadata": {},
   "outputs": [
    {
     "data": {
      "text/plain": [
       "(1000, 58)"
      ]
     },
     "execution_count": 12,
     "metadata": {},
     "output_type": "execute_result"
    }
   ],
   "source": [
    "# Drop 'filename' and 'length'\n",
    "abt = df.drop(['filename', 'length'], axis=1)\n",
    "abt.shape"
   ]
  },
  {
   "cell_type": "markdown",
   "id": "a979e0a9",
   "metadata": {},
   "source": [
    "## Feature Engineering"
   ]
  },
  {
   "cell_type": "markdown",
   "id": "68d2737c",
   "metadata": {},
   "source": [
    "The dataset used in this project seems to be adequated engineered for this task of classification. For instance, the mel-frequency ceptrum coefficients (mfccs) have a history of use with speech prior to its use in music (Logan, 2000), and approximates how frequencies are mapped to auditory nerves. Spectral centroid is associated with the 'brightness' of the sound, rolloff with the spectral shape, zero crossings with the noisiness of the audio signal, and chroma with pitch.(Ramirez and Flores, 2019) \n",
    "\n",
    "It should be noted that there is a python library 'librosa' that is used to extract these features from audio examples. "
   ]
  },
  {
   "cell_type": "markdown",
   "id": "28204d5d",
   "metadata": {},
   "source": [
    "## Algorithm Selection"
   ]
  },
  {
   "cell_type": "markdown",
   "id": "bb4ea2bc",
   "metadata": {},
   "source": [
    "The algorithms chosen for modeling and testing in this study are RandomForestClassifier, KNeighborsClassifier, DecisionTreeClassifier, LinearSVC, MLPClassifier, and GaussionNB. These algorithms were picked because each (in one way or another) has been associated with research studies in music information retrieval over the last two decades. \n",
    "\n",
    "Decision trees has been used in music classification (Basili et al., 2004; Aucouturier et al, 2007). \n",
    "ExtraTreesClassifier which \"its a number of randomized decision trees (a.k.a. extra-trees) on various sub-samples of the dataset and uses averaging to improve the predictive accuracy and control over-fitting.\" (https://scikit-learn.org/stable/modules/generated/sklearn.ensemble.ExtraTreesClassifier.html)\n",
    "\n",
    "Probabilitic modeling to which Naive Bayes(NB) belongs has been used in music analysis and retrieval (Paulus and Klapuri, 2009), music recommendation (Yoshii et al., 2008), music transcription (Benetos and Weyde, 2015), and music emotional perception (Egermann et al., 2013).\n",
    "\n",
    "Support Vector Machines to which LinearSVC belongs has long been associated with multi-class multilabel classification as they seek to ascertain the \"best and widest possible decison boundary between different classes\" (Ramirez and Flores, 2019).\n",
    "\n",
    "Finally, neural networks have been used in many areas of machine learning research, including speech recognition and audio/music studies. Scikit-Learn lists MLPClassifier as it go to neural network classifier and as a result it is used in this study."
   ]
  },
  {
   "cell_type": "markdown",
   "id": "bfbfab3c",
   "metadata": {},
   "source": [
    "## Model Training"
   ]
  },
  {
   "cell_type": "code",
   "execution_count": 13,
   "id": "2090e1f3",
   "metadata": {},
   "outputs": [],
   "source": [
    "# Split the data\n",
    "X = abt.drop(['label'], axis=1)\n",
    "y = abt.label"
   ]
  },
  {
   "cell_type": "code",
   "execution_count": 14,
   "id": "ea9b8db9",
   "metadata": {},
   "outputs": [],
   "source": [
    "# Split into train and test sets\n",
    "X_train, X_test, y_train, y_test = train_test_split(X, y, test_size=0.2, random_state=1234)"
   ]
  },
  {
   "cell_type": "markdown",
   "id": "4aa41af4",
   "metadata": {},
   "source": [
    "#### create pipelines"
   ]
  },
  {
   "cell_type": "code",
   "execution_count": 16,
   "id": "c3246048",
   "metadata": {},
   "outputs": [],
   "source": [
    "# Build pipelines\n",
    "# pipeline dictionary````\n",
    "pipelines = {\n",
    "    'rf' : make_pipeline(StandardScaler(), RandomForestClassifier(random_state=123)),\n",
    "    'kn' : make_pipeline(StandardScaler(),  NeighborhoodComponentsAnalysis(random_state=123), KNeighborsClassifier()),\n",
    "    'dt' : make_pipeline(StandardScaler(), DecisionTreeClassifier(random_state=123)),\n",
    "    'svc' : make_pipeline(StandardScaler(), LinearSVC(random_state=123, tol=1e-05)),\n",
    "    'mlp' : make_pipeline(StandardScaler(), MLPClassifier(random_state=123)),\n",
    "    'nb' : make_pipeline(StandardScaler(), GaussianNB()),\n",
    "    'et' : make_pipeline(StandardScaler(), ExtraTreesClassifier(random_state=123))\n",
    "}"
   ]
  },
  {
   "cell_type": "markdown",
   "id": "49bc78e1",
   "metadata": {},
   "source": [
    "#### hyperparameters"
   ]
  },
  {
   "cell_type": "code",
   "execution_count": 18,
   "id": "3732efe4",
   "metadata": {},
   "outputs": [],
   "source": [
    "# random forest hyperparameters\n",
    "rf_hyperparameters = {\n",
    "    'randomforestclassifier__n_estimators' : [100, 200],\n",
    "    'randomforestclassifier__max_features' : ['auto', 'sqrt', 0.33],\n",
    "    'randomforestclassifier__min_samples_leaf' : [1, 3, 5, 10]\n",
    "}\n",
    "\n",
    "# kneighbors hyperparameters\n",
    "kn_hyperparameters = {\n",
    "    'kneighborsclassifier__leaf_size' : [30],\n",
    "    'kneighborsclassifier__n_neighbors' : [5]\n",
    "}\n",
    "\n",
    "# decisiontree hyperparameters\n",
    "dt_hyperparameters = {\n",
    "    'decisiontreeclassifier__max_depth' : [1, 3, 5, 7], \n",
    "    'decisiontreeclassifier__min_samples_leaf' : [1, 3, 5, 10],\n",
    "    'decisiontreeclassifier__max_features' : ['auto', 'sqrt', 'log2']\n",
    "}\n",
    "\n",
    "# linearSVC hyperparameters\n",
    "svc_hyperparameters = {\n",
    "    'linearsvc__C' : [0.01, 0.05, 0.5, 1.0, 1.5, 2.0],\n",
    "    'linearsvc__max_iter' : [100, 200, 300],\n",
    "    'linearsvc__tol' : [1e-05]\n",
    "}\n",
    "\n",
    "# MLP hyperparameters\n",
    "mlp_hyperparameters = {\n",
    "    'mlpclassifier__alpha' : [0.0001, 0.05],\n",
    "    'mlpclassifier__activation': ['tanh', 'relu'],\n",
    "    'mlpclassifier__max_iter' : [100, 200, 300]\n",
    "}\n",
    "\n",
    "# NB hyperparameters\n",
    "nb_hyperparameters = {\n",
    "    \n",
    "}\n",
    "\n",
    "# ExtraTrees hyperparameters\n",
    "et_hyperparameters = {\n",
    "    'extratreesclassifier__n_estimators' : [100, 200],\n",
    "    'extratreesclassifier__max_features' : ['auto', 'sqrt', 'log2'],\n",
    "    'extratreesclassifier__min_samples_leaf' : [1, 3, 5, 10],\n",
    "    'extratreesclassifier__ccp_alpha' : [0.001, 0.01, 0.1, 0.5]\n",
    "}"
   ]
  },
  {
   "cell_type": "code",
   "execution_count": 22,
   "id": "581ebdac",
   "metadata": {},
   "outputs": [],
   "source": [
    "# hyperparameters dictionary\n",
    "hyperparameters = {\n",
    "    'rf' : rf_hyperparameters,\n",
    "    'kn' : kn_hyperparameters,\n",
    "    'dt' : dt_hyperparameters,\n",
    "    'svc' : svc_hyperparameters,\n",
    "    'mlp' : mlp_hyperparameters,\n",
    "    'nb' : nb_hyperparameters,\n",
    "    'et' : et_hyperparameters\n",
    "}"
   ]
  },
  {
   "cell_type": "markdown",
   "id": "b9cfb09f",
   "metadata": {},
   "source": [
    "#### fitting models"
   ]
  },
  {
   "cell_type": "code",
   "execution_count": 23,
   "id": "1de9ac02",
   "metadata": {},
   "outputs": [
    {
     "name": "stdout",
     "output_type": "stream",
     "text": [
      "rf has been fitted.\n",
      "kn has been fitted.\n",
      "dt has been fitted.\n",
      "svc has been fitted.\n",
      "mlp has been fitted.\n",
      "nb has been fitted.\n",
      "et has been fitted.\n"
     ]
    }
   ],
   "source": [
    "# fitted models dictionary\n",
    "fitted_models = {} \n",
    "\n",
    "# Loop through model pipelines, tuning each one and saving it to fitted_models\n",
    "for name, pipeline in pipelines.items():\n",
    "    # Create cross-validation  object from pipeline and hyperparameters\n",
    "    model = GridSearchCV(pipeline, hyperparameters[name], cv=10, n_jobs=-1)\n",
    "    \n",
    "    # Fit model on X_train, y_train\n",
    "    model.fit(X_train, y_train)\n",
    "    \n",
    "    # Store model in fitted_models\n",
    "    fitted_models[name] = model\n",
    "    \n",
    "    # print '{name} has been fitted'\n",
    "    print(name, 'has been fitted.')"
   ]
  },
  {
   "cell_type": "markdown",
   "id": "c1e4a7f2",
   "metadata": {},
   "source": [
    "## Insights and Anlysis"
   ]
  },
  {
   "cell_type": "code",
   "execution_count": 24,
   "id": "dfbaeec0",
   "metadata": {},
   "outputs": [
    {
     "name": "stdout",
     "output_type": "stream",
     "text": [
      "rf 0.665\n",
      "kn 0.65\n",
      "dt 0.345\n",
      "svc 0.7\n",
      "mlp 0.705\n",
      "nb 0.48\n",
      "et 0.675\n"
     ]
    }
   ],
   "source": [
    "for name, model in fitted_models.items():\n",
    "    print(name, model.score(X_test, y_test))"
   ]
  },
  {
   "cell_type": "code",
   "execution_count": 25,
   "id": "e7a4c0ce",
   "metadata": {},
   "outputs": [
    {
     "data": {
      "image/png": "[encoded data removed]",
      "text/plain": [
       "<Figure size 432x288 with 1 Axes>"
      ]
     },
     "metadata": {},
     "output_type": "display_data"
    }
   ],
   "source": [
    "for name, model in fitted_models.items():\n",
    "    plt.bar(name, model.score(X_test, y_test))"
   ]
  },
  {
   "cell_type": "markdown",
   "id": "853e8cbe",
   "metadata": {},
   "source": [
    "The above scores shows the average accuracy of each model in correctly identifying the respective labels/classes in the test set.\n",
    "\n",
    "The MLPClassifier and LinearSVC models performed the best with accuracy score of 70%, while the RandomForestClassifier, KNeighborsClassifier, and ExtraTreesClassifier models performed creditably with scores of 67%, 65%, and 68% respectively. The DecisionTree and GuasianNB classifiers performed poorly.\n",
    "\n",
    "The following shows the precision, recall, and f1 scores, and the confusion matrix from which they can be derived, for the SVC and MLP classifiers."
   ]
  },
  {
   "cell_type": "markdown",
   "id": "f08830ff",
   "metadata": {},
   "source": [
    "#### LinearSVC metrics"
   ]
  },
  {
   "cell_type": "code",
   "execution_count": 26,
   "id": "64c76e42",
   "metadata": {},
   "outputs": [
    {
     "data": {
      "image/png": "[encoded data removed]",
      "text/plain": [
       "<Figure size 432x288 with 1 Axes>"
      ]
     },
     "metadata": {},
     "output_type": "display_data"
    }
   ],
   "source": [
    "# Predict classes using kneighbors classifier model\n",
    "pred = fitted_models['svc'].predict(X_test)\n",
    "# Display the confusion matrix for y_test and pred\n",
    "cm = confusion_matrix(y_test, pred, labels=['blues', 'classical', 'country', 'disco', 'hiphop', 'jazz',\n",
    "       'metal', 'pop', 'reggae', 'rock'])\n",
    "\n",
    "cm_disp = ConfusionMatrixDisplay(confusion_matrix=cm, display_labels=fitted_models['svc'].classes_)\n",
    "cm_disp.plot(include_values=True, colorbar=False, xticks_rotation='vertical', cmap='YlOrRd')\n",
    "plt.grid(False)\n",
    "plt.show()\n"
   ]
  },
  {
   "cell_type": "markdown",
   "id": "650c45e9",
   "metadata": {},
   "source": [
    "###### A couple other ways to display the confusion matrix"
   ]
  },
  {
   "cell_type": "code",
   "execution_count": 27,
   "id": "4d5e06ef",
   "metadata": {},
   "outputs": [
    {
     "data": {
      "image/png": "[encoded data removed]",
      "text/plain": [
       "<Figure size 576x576 with 1 Axes>"
      ]
     },
     "metadata": {},
     "output_type": "display_data"
    }
   ],
   "source": [
    "fig, ax = plt.subplots(figsize=(8, 8))\n",
    "plot_confusion_matrix(fitted_models['svc'], X_test, y_test, ax=ax, cmap='YlOrRd', colorbar=False)\n",
    "plt.grid(False)\n",
    "plt.show()"
   ]
  },
  {
   "cell_type": "code",
   "execution_count": 28,
   "id": "5cce7d5b",
   "metadata": {},
   "outputs": [
    {
     "name": "stdout",
     "output_type": "stream",
     "text": [
      "[[12  0  1  0  0  0  2  0  1  0]\n",
      " [ 0 21  1  0  0  1  0  0  0  0]\n",
      " [ 0  1 15  2  0  0  0  2  0  1]\n",
      " [ 0  1  1 10  1  0  2  2  4  2]\n",
      " [ 0  0  1  1 15  0  1  0  3  0]\n",
      " [ 0  4  0  0  0 14  0  0  1  1]\n",
      " [ 1  0  0  0  0  1 11  0  0  0]\n",
      " [ 0  0  0  0  1  0  0 20  0  1]\n",
      " [ 1  0  1  0  5  0  1  2 12  0]\n",
      " [ 1  0  2  2  0  2  1  0  1 10]]\n"
     ]
    }
   ],
   "source": [
    "print(cm)"
   ]
  },
  {
   "cell_type": "code",
   "execution_count": 29,
   "id": "7c5e36eb",
   "metadata": {},
   "outputs": [
    {
     "name": "stdout",
     "output_type": "stream",
     "text": [
      "[0.77419355 0.84       0.69767442 0.52631579 0.69767442 0.73684211\n",
      " 0.70967742 0.83333333 0.54545455 0.58823529]\n"
     ]
    }
   ],
   "source": [
    "print(f1_score(y_test, pred, labels=['blues', 'classical', 'country', 'disco', 'hiphop', 'jazz',\n",
    "       'metal', 'pop', 'reggae', 'rock'], average=None))"
   ]
  },
  {
   "cell_type": "code",
   "execution_count": 30,
   "id": "dd52b8b4",
   "metadata": {},
   "outputs": [
    {
     "name": "stdout",
     "output_type": "stream",
     "text": [
      "0.7\n"
     ]
    }
   ],
   "source": [
    "print(accuracy_score(y_test, pred, normalize=True))"
   ]
  },
  {
   "cell_type": "code",
   "execution_count": 31,
   "id": "fbdf0c53",
   "metadata": {},
   "outputs": [
    {
     "name": "stdout",
     "output_type": "stream",
     "text": [
      "[0.8        0.77777778 0.68181818 0.66666667 0.68181818 0.77777778\n",
      " 0.61111111 0.76923077 0.54545455 0.66666667]\n"
     ]
    }
   ],
   "source": [
    "print(precision_score(y_test, pred, labels=['blues', 'classical', 'country', 'disco', 'hiphop', 'jazz',\n",
    "       'metal', 'pop', 'reggae', 'rock'], average=None))"
   ]
  },
  {
   "cell_type": "code",
   "execution_count": 32,
   "id": "8f28c343",
   "metadata": {},
   "outputs": [
    {
     "name": "stdout",
     "output_type": "stream",
     "text": [
      "[0.75       0.91304348 0.71428571 0.43478261 0.71428571 0.7\n",
      " 0.84615385 0.90909091 0.54545455 0.52631579]\n"
     ]
    }
   ],
   "source": [
    "print(recall_score(y_test, pred, labels=['blues', 'classical', 'country', 'disco', 'hiphop', 'jazz',\n",
    "       'metal', 'pop', 'reggae', 'rock'], average=None))"
   ]
  },
  {
   "cell_type": "markdown",
   "id": "9077293e",
   "metadata": {},
   "source": [
    "#### MLPClassifier metrics"
   ]
  },
  {
   "cell_type": "code",
   "execution_count": 33,
   "id": "00b30ed1",
   "metadata": {},
   "outputs": [
    {
     "data": {
      "image/png": "[encoded data removed]",
      "text/plain": [
       "<Figure size 432x288 with 1 Axes>"
      ]
     },
     "metadata": {},
     "output_type": "display_data"
    }
   ],
   "source": [
    "# Predict classes using kneighbors classifier model\n",
    "predm = fitted_models['mlp'].predict(X_test)\n",
    "\n",
    "# Display the confusion matrix for y_test and pred\n",
    "cm2 = confusion_matrix(y_test, predm, labels=['blues', 'classical', 'country', 'disco', 'hiphop', 'jazz',\n",
    "       'metal', 'pop', 'reggae', 'rock'])\n",
    "\n",
    "cm_disp = ConfusionMatrixDisplay(confusion_matrix=cm2, display_labels=fitted_models['mlp'].classes_)\n",
    "cm_disp.plot(include_values=True, colorbar=False, xticks_rotation='vertical', cmap='YlOrRd')\n",
    "plt.grid(False)\n",
    "plt.show()"
   ]
  },
  {
   "cell_type": "code",
   "execution_count": 34,
   "id": "6eb9aed4",
   "metadata": {},
   "outputs": [
    {
     "data": {
      "image/png": "[encoded data removed]",
      "text/plain": [
       "<Figure size 576x576 with 1 Axes>"
      ]
     },
     "metadata": {},
     "output_type": "display_data"
    }
   ],
   "source": [
    "fig, ax = plt.subplots(figsize=(8, 8))\n",
    "plot_confusion_matrix(fitted_models['mlp'], X_test, y_test, ax=ax, cmap='YlOrRd', colorbar=False)\n",
    "plt.grid(False)\n",
    "plt.show()"
   ]
  },
  {
   "cell_type": "code",
   "execution_count": 35,
   "id": "f26b5a96",
   "metadata": {},
   "outputs": [
    {
     "name": "stdout",
     "output_type": "stream",
     "text": [
      "[[13  1  0  0  0  1  0  0  1  0]\n",
      " [ 0 20  1  0  0  2  0  0  0  0]\n",
      " [ 0  1 14  1  0  2  0  1  1  1]\n",
      " [ 0  1  0 10  2  0  2  3  3  2]\n",
      " [ 0  0  0  0 15  0  1  1  4  0]\n",
      " [ 0  2  2  0  0 14  0  0  1  1]\n",
      " [ 2  0  0  0  0  0  8  0  0  3]\n",
      " [ 0  0  0  1  0  0  0 19  0  2]\n",
      " [ 0  0  0  1  2  0  0  1 17  1]\n",
      " [ 0  0  0  3  0  1  2  1  1 11]]\n"
     ]
    }
   ],
   "source": [
    "print(cm2)"
   ]
  },
  {
   "cell_type": "code",
   "execution_count": 36,
   "id": "5dc509da",
   "metadata": {},
   "outputs": [
    {
     "name": "stdout",
     "output_type": "stream",
     "text": [
      "0.705\n"
     ]
    }
   ],
   "source": [
    "print(accuracy_score(y_test, predm, normalize=True))"
   ]
  },
  {
   "cell_type": "code",
   "execution_count": 37,
   "id": "90d62918",
   "metadata": {},
   "outputs": [
    {
     "name": "stdout",
     "output_type": "stream",
     "text": [
      "[0.86666667 0.8        0.82352941 0.625      0.78947368 0.7\n",
      " 0.61538462 0.73076923 0.60714286 0.52380952]\n"
     ]
    }
   ],
   "source": [
    "print(precision_score(y_test, predm, labels=['blues', 'classical', 'country', 'disco', 'hiphop', 'jazz',\n",
    "       'metal', 'pop', 'reggae', 'rock'], average=None))"
   ]
  },
  {
   "cell_type": "code",
   "execution_count": 38,
   "id": "5de562b6",
   "metadata": {},
   "outputs": [
    {
     "name": "stdout",
     "output_type": "stream",
     "text": [
      "[0.8125     0.86956522 0.66666667 0.43478261 0.71428571 0.7\n",
      " 0.61538462 0.86363636 0.77272727 0.57894737]\n"
     ]
    }
   ],
   "source": [
    "print(recall_score(y_test, predm, labels=['blues', 'classical', 'country', 'disco', 'hiphop', 'jazz',\n",
    "       'metal', 'pop', 'reggae', 'rock'], average=None))"
   ]
  },
  {
   "cell_type": "code",
   "execution_count": 39,
   "id": "eccf2aa0",
   "metadata": {},
   "outputs": [
    {
     "name": "stdout",
     "output_type": "stream",
     "text": [
      "[0.83870968 0.83333333 0.73684211 0.51282051 0.75       0.7\n",
      " 0.61538462 0.79166667 0.68       0.55      ]\n"
     ]
    }
   ],
   "source": [
    "print(f1_score(y_test, predm, labels=['blues', 'classical', 'country', 'disco', 'hiphop', 'jazz',\n",
    "       'metal', 'pop', 'reggae', 'rock'], average=None))"
   ]
  },
  {
   "cell_type": "markdown",
   "id": "64f520ce",
   "metadata": {},
   "source": [
    "##### What's next\n",
    "\n",
    "Future music genre classification projects that I endeavor to undertake include:\n",
    "\n",
    "- There is another version of the GZTAN dataset that possesses 9990 samples. I was my intention to use this dataset for this modeling study, but it appears that my computer does not the capabilty to process the large data set. The loop through the model pipeline takes \"forever\" and the computer eventually shuts down. It work initially with three models, but it took a very long time for the loop to be executed.\n",
    "- Exploring the AudioSet database that is available via research.google.com/audioset/ \n"
   ]
  },
  {
   "cell_type": "markdown",
   "id": "3fc722ff",
   "metadata": {},
   "source": [
    "### References"
   ]
  },
  {
   "cell_type": "markdown",
   "id": "00cc7f34",
   "metadata": {},
   "source": [
    "Aucouturier JJ, Pachet F, Roy P, Beurive A (2007), Signal + Context = Better Classification. In: Proc. of the 8th International Conference on Music Information Retrieval, ISMIR, pp 425- 430\n",
    "\n",
    "Basili R, Serafini A, Stellatto A (2004), Classification of Musical Genre: A Machine Learning Approach. In ISMIR\n",
    "\n",
    "Benetos E, Weyde T (2015), Joint Beat and Downbeat Tracking with Recurrent Neural Networks. In: ISMIR, pp 255-261\n",
    "\n",
    "Egermann H, Pearce MT, Wiggins GA, McAdams S (2013), Probabilistic Models of Expectation Violation Predict psychophysical Emotional Responses to Live Concert Music. Cognitive, Affective, & Behavioral Neuroscience 13(3) 533-553\n",
    "\n",
    "Logan B, et al. (2000), Mel Frequency Cepstal Coefficients for Music Modeling. In: ISMIR, vol 270, pp 1-11\n",
    "\n",
    "Muller M (2015). Fundamentals of Music Processing: Audio, Analysis, Algorithms, Applications. Springer.\n",
    "\n",
    "Murauer B, Sprecht G (2018). Detecting Music Genre Using Extreme Gradient Boosting. Companion Proceesing of the THe Web Conference 2018, 1923-1927\n",
    "\n",
    "Paulus J, Klapuri A (2009). Music Strucrue Analysis using a Probavilistic Fitness Measure and a Greedy Search Algorithm. IEEE Trans on Audio, Speech, and Lnguage Processing 17(6):1159-1170\n",
    "\n",
    "Ramirez J, Flores J (2019). Machine Learning for Music Genre: Multifaceted Review and Experimentation with Audio. Journal of Intelligent Information Systems. Journal of Intelligent Information Systems.\n",
    "\n",
    "Tzanetakis G, Cook P (2002). Music Genre Classification of Audio Signals. IEEE Trans on Speech and Audio Processing 10(5):293-302\n",
    "\n"
   ]
  }
 ],
 "metadata": {
  "kernelspec": {
   "display_name": "Python 3",
   "language": "python",
   "name": "python3"
  },
  "language_info": {
   "codemirror_mode": {
    "name": "ipython",
    "version": 3
   },
   "file_extension": ".py",
   "mimetype": "text/x-python",
   "name": "python",
   "nbconvert_exporter": "python",
   "pygments_lexer": "ipython3",
   "version": "3.8.8"
  }
 },
 "nbformat": 4,
 "nbformat_minor": 5
}
